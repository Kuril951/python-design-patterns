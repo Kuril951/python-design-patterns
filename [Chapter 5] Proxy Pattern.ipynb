{
 "cells": [
  {
   "cell_type": "code",
   "execution_count": 2,
   "metadata": {},
   "outputs": [
    {
     "name": "stdout",
     "output_type": "stream",
     "text": [
      "Actor is free for the movie\n"
     ]
    }
   ],
   "source": [
    "class Actor:\n",
    "    def __init__(self):\n",
    "        self.isBusy = False\n",
    "    \n",
    "    def occupied(self):\n",
    "        self.isBusy = True\n",
    "        print(type(self).__name__, \"is occupied with current movie\")\n",
    "        \n",
    "    def available(self):\n",
    "        self.isBusy = False\n",
    "        print(type(self).__name__, \"is free for the movie\")\n",
    "        \n",
    "    def getStatus(self):\n",
    "        return self.isBusy\n",
    "    \n",
    "class Agent:\n",
    "    def __init__(self):\n",
    "        self.principal = None\n",
    "    \n",
    "    def work(self):\n",
    "        self.actor = Actor()\n",
    "        if self.actor.getStatus():\n",
    "            self.actor.occupied()\n",
    "        else:\n",
    "            self.actor.available()\n",
    "            \n",
    "            \n",
    "if __name__ == \"__main__\":\n",
    "    r = Agent()\n",
    "    r.work()"
   ]
  },
  {
   "cell_type": "code",
   "execution_count": 8,
   "metadata": {},
   "outputs": [],
   "source": [
    "class You:\n",
    "    def __init__(self):\n",
    "        print(\"You:: Lets buy the Denim shirt\")\n",
    "        self.debitCard = DebitCard()\n",
    "        self.isPurchased = None\n",
    "        \n",
    "    def make_payment(self):\n",
    "        self.isPurchased = self.debitCard.do_pay()\n",
    "        \n",
    "    def __del__(self):\n",
    "        if self.isPurchased:\n",
    "            print(\"You:: Wow! Denim shirt is Mine :-\")\n",
    "        else:\n",
    "            print(\"You:: I should earn more :(\")\n",
    "            "
   ]
  },
  {
   "cell_type": "code",
   "execution_count": 9,
   "metadata": {},
   "outputs": [],
   "source": [
    "from abc import ABCMeta, abstractmethod\n",
    "\n",
    "class Payment(metaclass=ABCMeta):\n",
    "    @abstractmethod\n",
    "    def do_pay(self):\n",
    "        pass\n",
    "    "
   ]
  },
  {
   "cell_type": "code",
   "execution_count": 10,
   "metadata": {},
   "outputs": [],
   "source": [
    "class Bank(Payment):\n",
    "    def __init__(self):\n",
    "        self.card = None\n",
    "        self.account = None\n",
    "        \n",
    "    def __getAccount(self):\n",
    "        self.account = self.card\n",
    "        return self.account\n",
    "    \n",
    "    def __hasFunds(self):\n",
    "        print(\"Bank:: Checking if Account\", self.__getAccount(), \"has enough funds\")\n",
    "        return True\n",
    "    \n",
    "    def setCard(self, card):\n",
    "        self.card = card\n",
    "        \n",
    "    def do_pay(self):\n",
    "        if self.__hasFunds():\n",
    "            print(\"Bank:: Paying the merchant\")\n",
    "            return True\n",
    "        else:\n",
    "            print(\"Bank:: Sorry, not enough funds!\")\n",
    "            return False"
   ]
  },
  {
   "cell_type": "code",
   "execution_count": 11,
   "metadata": {},
   "outputs": [],
   "source": [
    "class DebitCard(Payment):\n",
    "    def __init__(self):\n",
    "        self.bank = Bank()\n",
    "        self.bank.setCard(\"0000-0000\")\n",
    "        \n",
    "    def do_pay(self):\n",
    "        return self.bank.do_pay()"
   ]
  },
  {
   "cell_type": "code",
   "execution_count": 12,
   "metadata": {},
   "outputs": [
    {
     "name": "stdout",
     "output_type": "stream",
     "text": [
      "You:: Lets buy the Denim shirt\n",
      "Bank:: Checking if Account 0000-0000 has enough funds\n",
      "Bank:: Paying the merchant\n"
     ]
    }
   ],
   "source": [
    "you = You()\n",
    "you.make_payment()"
   ]
  },
  {
   "cell_type": "code",
   "execution_count": null,
   "metadata": {},
   "outputs": [],
   "source": []
  },
  {
   "cell_type": "code",
   "execution_count": null,
   "metadata": {},
   "outputs": [],
   "source": []
  },
  {
   "cell_type": "code",
   "execution_count": null,
   "metadata": {},
   "outputs": [],
   "source": []
  },
  {
   "cell_type": "code",
   "execution_count": null,
   "metadata": {},
   "outputs": [],
   "source": []
  },
  {
   "cell_type": "code",
   "execution_count": null,
   "metadata": {},
   "outputs": [],
   "source": []
  },
  {
   "cell_type": "code",
   "execution_count": null,
   "metadata": {},
   "outputs": [],
   "source": []
  },
  {
   "cell_type": "code",
   "execution_count": null,
   "metadata": {},
   "outputs": [],
   "source": []
  },
  {
   "cell_type": "code",
   "execution_count": null,
   "metadata": {},
   "outputs": [],
   "source": []
  }
 ],
 "metadata": {
  "kernelspec": {
   "display_name": "Python 3.6.5 64-bit ('practice': conda)",
   "language": "python",
   "name": "python36564bitpracticeconda25623b7c91a84e6ebcb9044ac82c9768"
  },
  "language_info": {
   "codemirror_mode": {
    "name": "ipython",
    "version": 3
   },
   "file_extension": ".py",
   "mimetype": "text/x-python",
   "name": "python",
   "nbconvert_exporter": "python",
   "pygments_lexer": "ipython3",
   "version": "3.6.5"
  }
 },
 "nbformat": 4,
 "nbformat_minor": 4
}
