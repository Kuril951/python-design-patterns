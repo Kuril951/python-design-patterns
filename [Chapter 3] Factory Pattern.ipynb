{
 "cells": [
  {
   "cell_type": "markdown",
   "metadata": {},
   "source": [
    "### Simple Factory Pattern"
   ]
  },
  {
   "cell_type": "code",
   "execution_count": 1,
   "metadata": {},
   "outputs": [],
   "source": [
    "from abc import ABCMeta, abstractmethod"
   ]
  },
  {
   "cell_type": "code",
   "execution_count": 2,
   "metadata": {},
   "outputs": [],
   "source": [
    "class Animal(metaclass=ABCMeta):\n",
    "    @abstractmethod\n",
    "    def do_say(self):\n",
    "        pass\n",
    "    \n",
    "class Dog(Animal):\n",
    "    def do_say(self):\n",
    "        print(\"Bhow Bhow!!\")\n",
    "        \n",
    "class Cat(Animal):\n",
    "    def do_say(self):\n",
    "        print(\"Meow Meow!!\")"
   ]
  },
  {
   "cell_type": "code",
   "execution_count": 3,
   "metadata": {},
   "outputs": [],
   "source": [
    "class ForestFactory:\n",
    "    def make_sound(self, object_type):\n",
    "        return eval(object_type)().do_say()"
   ]
  },
  {
   "cell_type": "code",
   "execution_count": 5,
   "metadata": {
    "scrolled": true
   },
   "outputs": [
    {
     "name": "stdout",
     "output_type": "stream",
     "text": [
      "Dog\n",
      "Bhow Bhow!!\n"
     ]
    }
   ],
   "source": [
    "if __name__ == \"__main__\":\n",
    "    ff = ForestFactory()\n",
    "    animal = input()\n",
    "    ff.make_sound(animal)"
   ]
  },
  {
   "cell_type": "code",
   "execution_count": 9,
   "metadata": {},
   "outputs": [
    {
     "data": {
      "text/plain": [
       "<__main__.Dog at 0x20418b932e8>"
      ]
     },
     "execution_count": 9,
     "metadata": {},
     "output_type": "execute_result"
    }
   ],
   "source": [
    "eval(\"Dog\")"
   ]
  },
  {
   "cell_type": "markdown",
   "metadata": {},
   "source": [
    "### Factory Method Pattern"
   ]
  },
  {
   "cell_type": "code",
   "execution_count": 10,
   "metadata": {},
   "outputs": [],
   "source": [
    "from abc import ABCMeta, abstractmethod"
   ]
  },
  {
   "cell_type": "code",
   "execution_count": 11,
   "metadata": {},
   "outputs": [],
   "source": [
    "class Section(metaclass=ABCMeta):\n",
    "    @abstractmethod\n",
    "    def describe(self):\n",
    "        pass\n",
    "    \n",
    "class PersonalSection(Section):\n",
    "    def describe(self):\n",
    "        print(\"Personal Section\")\n",
    "        \n",
    "class AlbumSection(Section):\n",
    "    def describe(self):\n",
    "        print(\"Album Section\")\n",
    "        \n",
    "class PatentSection(Section):\n",
    "    def describe(self):\n",
    "        print(\"Patent Section\")\n",
    "        \n",
    "class PublicationSection(Section):\n",
    "    def describe(self):\n",
    "        print(\"Publication Section\")"
   ]
  },
  {
   "cell_type": "code",
   "execution_count": 14,
   "metadata": {},
   "outputs": [],
   "source": [
    "class Profile(metaclass=ABCMeta):\n",
    "    def __init__(self):\n",
    "        self.sections = []\n",
    "        self.createProfile()\n",
    "        \n",
    "    @abstractmethod\n",
    "    def createProfile(self):\n",
    "        pass\n",
    "    def getSections(self):\n",
    "        return self.sections\n",
    "    def addSections(self, section):\n",
    "        self.sections.append(section)\n",
    "        \n",
    "class linkedin(Profile):\n",
    "    def createProfile(self):\n",
    "        self.addSections(PersonalSection())\n",
    "        self.addSections(PatentSection())\n",
    "        self.addSections(PublicationSection())\n",
    "        \n",
    "class facebook(Profile):\n",
    "    def createProfile(self):\n",
    "        self.addSections(PersonalSection())\n",
    "        self.addSections(AlbumSection())\n"
   ]
  },
  {
   "cell_type": "code",
   "execution_count": 15,
   "metadata": {},
   "outputs": [
    {
     "name": "stdout",
     "output_type": "stream",
     "text": [
      "facebook\n",
      "facebook\n",
      "<bound method Profile.getSections of <__main__.facebook object at 0x0000020418D68EF0>>\n"
     ]
    }
   ],
   "source": [
    "if __name__ == \"__main__\":\n",
    "    profile_type = input()\n",
    "    profile = eval(profile_type.lower())()\n",
    "    print(type(profile).__name__)\n",
    "    print(profile.getSections)"
   ]
  },
  {
   "cell_type": "markdown",
   "metadata": {},
   "source": [
    "### Abstract Factory Pattern"
   ]
  },
  {
   "cell_type": "code",
   "execution_count": 1,
   "metadata": {},
   "outputs": [],
   "source": [
    "from abc import ABCMeta, abstractmethod"
   ]
  },
  {
   "cell_type": "code",
   "execution_count": 34,
   "metadata": {},
   "outputs": [],
   "source": [
    "class VegPizza(metaclass=ABCMeta):\n",
    "    @abstractmethod\n",
    "    def prepare(self, VegPizza):\n",
    "        pass\n",
    "    \n",
    "class NonVegPizza(metaclass=ABCMeta):\n",
    "    @abstractmethod\n",
    "    def serve(self, VegPizza):\n",
    "        pass\n",
    "    \n",
    "class DeluxVeggiePizza(VegPizza):\n",
    "    def prepare(self):\n",
    "        print(\"Prepare \", type(self).__name__)\n",
    "\n",
    "class ChickenPizza(NonVegPizza):\n",
    "    def serve(self, VegPizza):\n",
    "        print(type(self).__name__, \" is served with Chicken on \", type(VegPizza).__name__)\n",
    "\n",
    "class MexicanVegPizza(VegPizza):\n",
    "    def prepare(self):\n",
    "        print(\"Prepare \", type(self).__name__)\n",
    "        \n",
    "class HamPizza(NonVegPizza):\n",
    "    def serve(self, VegPizza):\n",
    "        print(type(self).__name__, \" is served with Chicken on \", type(VegPizza).__name__)"
   ]
  },
  {
   "cell_type": "code",
   "execution_count": 35,
   "metadata": {},
   "outputs": [],
   "source": [
    "class PizzaFactory(metaclass=ABCMeta):\n",
    "    @abstractmethod\n",
    "    def createVegPizza(self):\n",
    "        pass\n",
    "    \n",
    "    @abstractmethod\n",
    "    def createNonVegPizza(self):\n",
    "        pass\n",
    "    \n",
    "class IndianPizzaFactory(PizzaFactory):\n",
    "    def createVegPizza(self):\n",
    "        return DeluxVeggiePizza()\n",
    "    \n",
    "    def createNonVegPizza(self):\n",
    "        return ChickenPizza()\n",
    "    \n",
    "class USPizzaFactory(PizzaFactory):\n",
    "    def createVegPizza(self):\n",
    "        return MexicanVegPizza()\n",
    "    \n",
    "    def createNonVegPizza(self):\n",
    "        return HamPizza()"
   ]
  },
  {
   "cell_type": "code",
   "execution_count": 36,
   "metadata": {},
   "outputs": [],
   "source": [
    "class PizzaStore:\n",
    "    def __init__(self):\n",
    "        pass\n",
    "    \n",
    "    def makePizzas(self):\n",
    "        for factory in [IndianPizzaFactory(), USPizzaFactory()]:\n",
    "            self.factory = factory\n",
    "            self.NonVegPizza = self.factory.createNonVegPizza()\n",
    "            self.VegPizza = self.factory.createVegPizza()\n",
    "            self.VegPizza.prepare()\n",
    "            self.NonVegPizza.serve(self.VegPizza)"
   ]
  },
  {
   "cell_type": "code",
   "execution_count": 37,
   "metadata": {},
   "outputs": [
    {
     "name": "stdout",
     "output_type": "stream",
     "text": [
      "Prepare  DeluxVeggiePizza\n",
      "ChickenPizza  is served with Chicken on  DeluxVeggiePizza\n",
      "Prepare  MexicanVegPizza\n",
      "HamPizza  is served with Chicken on  MexicanVegPizza\n"
     ]
    }
   ],
   "source": [
    "pizza = PizzaStore()\n",
    "pizza.makePizzas()"
   ]
  },
  {
   "cell_type": "code",
   "execution_count": null,
   "metadata": {},
   "outputs": [],
   "source": []
  },
  {
   "cell_type": "code",
   "execution_count": null,
   "metadata": {},
   "outputs": [],
   "source": []
  },
  {
   "cell_type": "code",
   "execution_count": null,
   "metadata": {},
   "outputs": [],
   "source": []
  },
  {
   "cell_type": "code",
   "execution_count": null,
   "metadata": {},
   "outputs": [],
   "source": []
  },
  {
   "cell_type": "code",
   "execution_count": null,
   "metadata": {},
   "outputs": [],
   "source": []
  },
  {
   "cell_type": "code",
   "execution_count": null,
   "metadata": {},
   "outputs": [],
   "source": []
  }
 ],
 "metadata": {
  "kernelspec": {
   "display_name": "Python 3.6.5 64-bit ('practice': conda)",
   "language": "python",
   "name": "python36564bitpracticeconda25623b7c91a84e6ebcb9044ac82c9768"
  },
  "language_info": {
   "codemirror_mode": {
    "name": "ipython",
    "version": 3
   },
   "file_extension": ".py",
   "mimetype": "text/x-python",
   "name": "python",
   "nbconvert_exporter": "python",
   "pygments_lexer": "ipython3",
   "version": "3.6.5"
  }
 },
 "nbformat": 4,
 "nbformat_minor": 4
}
