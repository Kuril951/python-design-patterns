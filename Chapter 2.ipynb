{
 "cells": [
  {
   "cell_type": "markdown",
   "metadata": {},
   "source": [
    "# Singleton"
   ]
  },
  {
   "cell_type": "markdown",
   "metadata": {},
   "source": [
    "싱글톤 디자인 패턴\n",
    "- 글로벌하게 접근 가능한 하나의 객체를 제공하는 패턴\n",
    "- 동일한 리소스에 대한 **동시 요청의 충돌을 방지**하기 위해 하나의 인스턴스를 공유하는 작업에 주로 사용\n",
    "  - e.g. 데이터의 일관성 유지를 위해 DB에 작업을 수행하는 하나의 데이터 베이스 객체가 필요한 경우\n"
   ]
  },
  {
   "cell_type": "code",
   "execution_count": 1,
   "metadata": {},
   "outputs": [],
   "source": [
    "class Singleton(object):\n",
    "    def __new__(cls):\n",
    "        if not hasattr(cls, 'instance'):\n",
    "            cls.instance = super(Singleton, cls).__new__(cls)\n",
    "        return cls.instance"
   ]
  },
  {
   "cell_type": "code",
   "execution_count": 2,
   "metadata": {},
   "outputs": [
    {
     "name": "stdout",
     "output_type": "stream",
     "text": [
      "Object created <__main__.Singleton object at 0x000001ED51ED13C8> 2118793368520\n",
      "Object created <__main__.Singleton object at 0x000001ED51ED13C8> 2118793368520\n"
     ]
    }
   ],
   "source": [
    "s = Singleton()\n",
    "print(\"Object created\", s, id(s))\n",
    "\n",
    "s1 = Singleton()\n",
    "print(\"Object created\", s1, id(s1))"
   ]
  },
  {
   "cell_type": "markdown",
   "metadata": {},
   "source": [
    "#### lazy instantiation"
   ]
  },
  {
   "cell_type": "markdown",
   "metadata": {},
   "source": [
    "위 예제와 다르게, 인스턴스가 꼭 필요한 시점에 생성"
   ]
  },
  {
   "cell_type": "code",
   "execution_count": 3,
   "metadata": {},
   "outputs": [],
   "source": [
    "class Singleton:\n",
    "    __instance = None\n",
    "    def __init__(self):\n",
    "        if not Singleton.__instance:\n",
    "            print(\"__init__ method called...\")\n",
    "        else:\n",
    "            print(\"Instance already created:\", self.getInstance())\n",
    "    \n",
    "    @classmethod\n",
    "    def getInstance(cls):\n",
    "        if not cls.__instance:\n",
    "            cls.__instance = Singleton()\n",
    "        return cls.__instance"
   ]
  },
  {
   "cell_type": "code",
   "execution_count": 4,
   "metadata": {},
   "outputs": [
    {
     "name": "stdout",
     "output_type": "stream",
     "text": [
      "__init__ method called...\n",
      "__init__ method called...\n",
      "Object created <__main__.Singleton object at 0x000001ED53A26D30>\n",
      "Instance already created: <__main__.Singleton object at 0x000001ED53A26D30>\n",
      "Object created <__main__.Singleton object at 0x000001ED53A26A58>\n"
     ]
    }
   ],
   "source": [
    "s = Singleton()\n",
    "print(\"Object created\", Singleton.getInstance())\n",
    "s1 = Singleton()\n",
    "print(\"Object created\", s1)"
   ]
  },
  {
   "cell_type": "code",
   "execution_count": null,
   "metadata": {},
   "outputs": [],
   "source": []
  },
  {
   "cell_type": "markdown",
   "metadata": {},
   "source": [
    "# Monostate Singleton"
   ]
  },
  {
   "cell_type": "markdown",
   "metadata": {},
   "source": [
    "모든 객체가 같은 상태를 공유하는 패턴"
   ]
  },
  {
   "cell_type": "code",
   "execution_count": 10,
   "metadata": {},
   "outputs": [],
   "source": [
    "class Borg:\n",
    "    __shared_state = {\"1\": \"2\"}\n",
    "    def __init__(self):\n",
    "        self.x = 1\n",
    "        self.__dict__ = self.__shared_state\n",
    "        pass"
   ]
  },
  {
   "cell_type": "code",
   "execution_count": 11,
   "metadata": {},
   "outputs": [
    {
     "name": "stdout",
     "output_type": "stream",
     "text": [
      "Borg Object 'b':  <__main__.Borg object at 0x000001ED52062780>\n",
      "Borg Object 'b1':  <__main__.Borg object at 0x000001ED5358B400>\n",
      "Object State 'b': {'1': '2', 'x': 4}\n",
      "Object State 'b1': {'1': '2', 'x': 4}\n"
     ]
    }
   ],
   "source": [
    "b = Borg()\n",
    "b1 = Borg()\n",
    "b.x = 4\n",
    "\n",
    "print(\"Borg Object 'b': \", b)\n",
    "print(\"Borg Object 'b1': \", b1)\n",
    "print(\"Object State 'b':\", b.__dict__)\n",
    "print(\"Object State 'b1':\", b1.__dict__)"
   ]
  },
  {
   "cell_type": "code",
   "execution_count": 8,
   "metadata": {},
   "outputs": [],
   "source": [
    "class Borg(object):\n",
    "    _shared_state = {}\n",
    "    def __new__(cls, *args, **kwargs):\n",
    "        obj = super(Borg, cls).__new__(cls, *args, **kwargs)\n",
    "        obj.__dict__ = cls._shared_state\n",
    "        return obj"
   ]
  },
  {
   "cell_type": "code",
   "execution_count": 9,
   "metadata": {},
   "outputs": [
    {
     "name": "stdout",
     "output_type": "stream",
     "text": [
      "Borg Object 'b':  <__main__.Borg object at 0x000001ED53C7ADD8>\n",
      "Borg Object 'b1':  <__main__.Borg object at 0x000001ED53C7ADA0>\n",
      "Object State 'b': {'x': 4}\n",
      "Object State 'b1': {'x': 4}\n"
     ]
    }
   ],
   "source": [
    "b = Borg()\n",
    "b1 = Borg()\n",
    "b.x = 4\n",
    "\n",
    "print(\"Borg Object 'b': \", b)\n",
    "print(\"Borg Object 'b1': \", b1)\n",
    "print(\"Object State 'b':\", b.__dict__)\n",
    "print(\"Object State 'b1':\", b1.__dict__)"
   ]
  },
  {
   "cell_type": "code",
   "execution_count": null,
   "metadata": {},
   "outputs": [],
   "source": []
  },
  {
   "cell_type": "markdown",
   "metadata": {},
   "source": [
    "## MetaClass (MetaKls)"
   ]
  },
  {
   "cell_type": "code",
   "execution_count": 14,
   "metadata": {},
   "outputs": [],
   "source": [
    "# metaclass 구현\n",
    "class MyInt(type):\n",
    "    def __call__(cls, *args, **kwargs):\n",
    "        print(\"***** Here's My int *****\", args)\n",
    "        print(\"Now do whatever you want with these objects...\")\n",
    "        return type.__call__(cls, *args, **kwargs)\n",
    "    \n",
    "class int(metaclass=MyInt):\n",
    "    def __init__(self, x, y):\n",
    "        self.x = x\n",
    "        self.y = y"
   ]
  },
  {
   "cell_type": "code",
   "execution_count": 15,
   "metadata": {},
   "outputs": [
    {
     "name": "stdout",
     "output_type": "stream",
     "text": [
      "***** Here's My int ***** (4, 5)\n",
      "Now do whatever you want with these objects...\n"
     ]
    }
   ],
   "source": [
    "i = int(4, 5)"
   ]
  },
  {
   "cell_type": "code",
   "execution_count": null,
   "metadata": {},
   "outputs": [],
   "source": []
  },
  {
   "cell_type": "code",
   "execution_count": 16,
   "metadata": {},
   "outputs": [],
   "source": [
    "class MetaSingleton(type):\n",
    "    _instances = {}\n",
    "    def __call__(cls, *args, **kwargs):\n",
    "        if cls not in cls._instances:\n",
    "            cls._instances[cls] = super(MetaSingleton, cls).__call__(*args, **kwargs)\n",
    "        return cls._instances[cls]\n",
    "    \n",
    "class Logger(metaclass=MetaSingleton):\n",
    "    pass"
   ]
  },
  {
   "cell_type": "code",
   "execution_count": 17,
   "metadata": {},
   "outputs": [
    {
     "name": "stdout",
     "output_type": "stream",
     "text": [
      "<__main__.Logger object at 0x000001ED5381BBE0> <__main__.Logger object at 0x000001ED5381BBE0>\n"
     ]
    }
   ],
   "source": [
    "logger1 = Logger()\n",
    "logger2 = Logger()\n",
    "print(logger1, logger2)"
   ]
  },
  {
   "cell_type": "code",
   "execution_count": null,
   "metadata": {},
   "outputs": [],
   "source": []
  },
  {
   "cell_type": "markdown",
   "metadata": {},
   "source": [
    "### 실습 1"
   ]
  },
  {
   "cell_type": "code",
   "execution_count": 19,
   "metadata": {},
   "outputs": [
    {
     "name": "stdout",
     "output_type": "stream",
     "text": [
      "Database Objects DB1 <sqlite3.Cursor object at 0x000001ED537B1E30>\n",
      "Database Objects DB2 <sqlite3.Cursor object at 0x000001ED537B1E30>\n"
     ]
    }
   ],
   "source": [
    "import sqlite3\n",
    "class MetaSingleton(type):\n",
    "    _instances = {}\n",
    "    def __call__(cls, *args, **kwargs):\n",
    "        if cls not in cls._instances:\n",
    "            cls._instances[cls] = super(MetaSingleton, cls).__call__(*args, **kwargs)\n",
    "        return cls._instances[cls]\n",
    "    \n",
    "class Database(metaclass=MetaSingleton):\n",
    "    connection = None\n",
    "    def connect(self):\n",
    "        if self.connection is None:\n",
    "            self.connection = sqlite3.connect(\"db.sqlite3\")\n",
    "            self.cursorobj = self.connection.cursor()\n",
    "        return self.cursorobj\n",
    "    \n",
    "db1 = Database().connect()\n",
    "db2 = Database().connect()\n",
    "\n",
    "print(\"Database Objects DB1\", db1)\n",
    "print(\"Database Objects DB2\", db2)"
   ]
  },
  {
   "cell_type": "code",
   "execution_count": 24,
   "metadata": {},
   "outputs": [
    {
     "data": {
      "text/plain": [
       "{__main__.Database: <__main__.Database at 0x1ed53a9cd68>,\n",
       " __main__.Database2: <__main__.Database2 at 0x1ed51fb5400>}"
      ]
     },
     "execution_count": 24,
     "metadata": {},
     "output_type": "execute_result"
    }
   ],
   "source": [
    "MetaSingleton._instances"
   ]
  },
  {
   "cell_type": "code",
   "execution_count": null,
   "metadata": {},
   "outputs": [],
   "source": []
  },
  {
   "cell_type": "markdown",
   "metadata": {},
   "source": [
    "### 실습2"
   ]
  },
  {
   "cell_type": "code",
   "execution_count": 29,
   "metadata": {},
   "outputs": [],
   "source": [
    "class HealthCheck:\n",
    "    _instance = None\n",
    "    def __new__(cls, *args, **kwargs):\n",
    "        if not HealthCheck._instance:\n",
    "            HealthCheck._instance = super(HealthCheck, cls).__new__(cls, *args, **kwargs)\n",
    "        return HealthCheck._instance\n",
    "    \n",
    "    def __init__(self):\n",
    "        self._servers = []\n",
    "    \n",
    "    def addServer(self):\n",
    "        self._servers.append(\"Server 1\")\n",
    "        self._servers.append(\"Server 2\")\n",
    "        self._servers.append(\"Server 3\")\n",
    "        self._servers.append(\"Server 4\")\n",
    "    \n",
    "    def changeServer(self):\n",
    "        self._servers.pop()\n",
    "        self._servers.append(\"Server 5\")"
   ]
  },
  {
   "cell_type": "code",
   "execution_count": 30,
   "metadata": {},
   "outputs": [
    {
     "name": "stdout",
     "output_type": "stream",
     "text": [
      "Schedule health check for servers (1)..\n",
      "Checking  Server 1\n",
      "Checking  Server 2\n",
      "Checking  Server 3\n",
      "Checking  Server 4\n",
      "Schedule health check for servers (2)..\n",
      "Checking  Server 1\n",
      "Checking  Server 2\n",
      "Checking  Server 3\n",
      "Checking  Server 5\n"
     ]
    }
   ],
   "source": [
    "hc1 = HealthCheck()\n",
    "hc2 = HealthCheck()\n",
    "\n",
    "hc1.addServer()\n",
    "print(\"Schedule health check for servers (1)..\")\n",
    "for i in range(4):\n",
    "    print(\"Checking \", hc1._servers[i])\n",
    "\n",
    "hc2.changeServer()\n",
    "print(\"Schedule health check for servers (2)..\")\n",
    "for i in range(4):\n",
    "    print(\"Checking \", hc2._servers[i])"
   ]
  },
  {
   "cell_type": "code",
   "execution_count": null,
   "metadata": {},
   "outputs": [],
   "source": []
  },
  {
   "cell_type": "code",
   "execution_count": null,
   "metadata": {},
   "outputs": [],
   "source": []
  },
  {
   "cell_type": "code",
   "execution_count": null,
   "metadata": {},
   "outputs": [],
   "source": []
  },
  {
   "cell_type": "code",
   "execution_count": null,
   "metadata": {},
   "outputs": [],
   "source": []
  },
  {
   "cell_type": "code",
   "execution_count": null,
   "metadata": {},
   "outputs": [],
   "source": []
  },
  {
   "cell_type": "code",
   "execution_count": null,
   "metadata": {},
   "outputs": [],
   "source": []
  },
  {
   "cell_type": "code",
   "execution_count": null,
   "metadata": {},
   "outputs": [],
   "source": []
  },
  {
   "cell_type": "code",
   "execution_count": null,
   "metadata": {},
   "outputs": [],
   "source": []
  },
  {
   "cell_type": "code",
   "execution_count": null,
   "metadata": {},
   "outputs": [],
   "source": []
  },
  {
   "cell_type": "code",
   "execution_count": null,
   "metadata": {},
   "outputs": [],
   "source": []
  },
  {
   "cell_type": "code",
   "execution_count": null,
   "metadata": {},
   "outputs": [],
   "source": []
  }
 ],
 "metadata": {
  "kernelspec": {
   "display_name": "Python 3.6.5 64-bit ('practice': conda)",
   "language": "python",
   "name": "python36564bitpracticeconda25623b7c91a84e6ebcb9044ac82c9768"
  },
  "language_info": {
   "codemirror_mode": {
    "name": "ipython",
    "version": 3
   },
   "file_extension": ".py",
   "mimetype": "text/x-python",
   "name": "python",
   "nbconvert_exporter": "python",
   "pygments_lexer": "ipython3",
   "version": "3.6.5"
  }
 },
 "nbformat": 4,
 "nbformat_minor": 4
}
